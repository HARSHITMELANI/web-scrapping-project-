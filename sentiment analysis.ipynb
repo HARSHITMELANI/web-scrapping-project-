{
 "cells": [
  {
   "cell_type": "markdown",
   "id": "094f5bfa",
   "metadata": {},
   "source": [
    "**Social Media Trolls Identification using ML**"
   ]
  },
  {
   "cell_type": "code",
   "execution_count": 1,
   "id": "66b46039",
   "metadata": {},
   "outputs": [],
   "source": [
    "import os\n",
    "import textstat\n",
    "import string\n",
    "import chardet\n",
    "import requests\n",
    "import pandas as pd\n",
    "from nltk.tokenize import word_tokenize, sent_tokenize\n",
    "from nltk.sentiment import SentimentIntensityAnalyzer\n",
    "from bs4 import BeautifulSoup\n"
   ]
  },
  {
   "cell_type": "markdown",
   "id": "1e14d2cc",
   "metadata": {},
   "source": [
    "**after importing libraries i picked up a random blog website to extract** "
   ]
  },
  {
   "cell_type": "code",
   "execution_count": 2,
   "id": "66565d36",
   "metadata": {},
   "outputs": [],
   "source": [
    "url=[\"https://newbreak.church/holy-spirit-guidance/\"]"
   ]
  },
  {
   "cell_type": "markdown",
   "id": "064a7b5d",
   "metadata": {},
   "source": [
    "**now creating a function to extract that website** \n"
   ]
  },
  {
   "cell_type": "code",
   "execution_count": 3,
   "id": "fa5ea565",
   "metadata": {},
   "outputs": [],
   "source": [
    "def extract_text_from_url(url):\n",
    "    headers = {\n",
    "        'User-Agent': 'Mozilla/5.0 (Windows NT 10.0; Win64; x64) AppleWebKit/537.36 (KHTML, like Gecko) Chrome/91.0.4472.124 Safari/537.36'\n",
    "    }\n",
    "\n",
    "    with requests.Session() as session:\n",
    "        try:\n",
    "            response = session.get(url, headers=headers)\n",
    "            response.raise_for_status() \n",
    "            soup = BeautifulSoup(response.content, 'html.parser')\n",
    "            text = soup.get_text()\n",
    "            return text\n",
    "        except requests.exceptions.RequestException as e:\n",
    "            print(f\"Error fetching content from {url}: {e}\")\n",
    "            return None"
   ]
  },
  {
   "cell_type": "markdown",
   "id": "f8d00b72",
   "metadata": {},
   "source": [
    "**now saving that extracts into text format**"
   ]
  },
  {
   "cell_type": "code",
   "execution_count": 4,
   "id": "d6c5795c",
   "metadata": {},
   "outputs": [],
   "source": [
    "def save_text_to_file(text, filename):\n",
    "    with open(filename, 'w', encoding='utf-8') as file:\n",
    "        file.write(text)"
   ]
  },
  {
   "cell_type": "markdown",
   "id": "ad51b1a4",
   "metadata": {},
   "source": [
    "**preprocessing data from text file**"
   ]
  },
  {
   "cell_type": "code",
   "execution_count": null,
   "id": "fdd0a19d",
   "metadata": {},
   "outputs": [],
   "source": []
  },
  {
   "cell_type": "code",
   "execution_count": 5,
   "id": "5542104e",
   "metadata": {},
   "outputs": [],
   "source": [
    "def process_file(file_path):\n",
    "    try:\n",
    "        with open(file_path, 'rb') as file:\n",
    "            result = chardet.detect(file.read())\n",
    "            encoding = result['encoding']\n",
    "        \n",
    "        with open(file_path, 'r', encoding=encoding) as file:\n",
    "            text = file.read()\n",
    "\n",
    "        tokens = word_tokenize(text)\n",
    "        sentences = sent_tokenize(text)\n",
    "\n",
    "        return calculate_scores_and_features(tokens, sentences)\n",
    "\n",
    "    except FileNotFoundError:\n",
    "        print(f\"File not found: {file_path}\")\n",
    "        return None\n"
   ]
  },
  {
   "cell_type": "markdown",
   "id": "2957b6e4",
   "metadata": {},
   "source": [
    "**providing features for better analysis result**"
   ]
  },
  {
   "cell_type": "code",
   "execution_count": 6,
   "id": "204889f4",
   "metadata": {},
   "outputs": [],
   "source": [
    "def calculate_scores_and_features(tokens, sentences):\n",
    "    positive_score = sum(1 for word in tokens if word in positive_stopwords)\n",
    "    negative_score = sum(1 for word in tokens if word in negative_stopwords)\n",
    "\n",
    "    polarity_score = (positive_score - negative_score) / ((positive_score + negative_score) + 0.000001)\n",
    "    subjectivity_score = (positive_score + negative_score) / (len(tokens) + 0.000001)\n",
    "\n",
    "    avg_sentence_length = sum(len(sent_tokenize(sentence)) for sentence in sentences) / len(sentences)\n",
    "    percentage_complex_words = textstat.difficult_words(\" \".join(tokens))\n",
    "    fog_index = textstat.gunning_fog(\" \".join(tokens))\n",
    "    avg_words_per_sentence = len(tokens) / len(sentences)\n",
    "    complex_word_count = textstat.difficult_words(\" \".join(tokens))\n",
    "    word_count = len(tokens)\n",
    "    syllables_per_word = textstat.syllable_count(\" \".join(tokens)) / word_count\n",
    "    personal_pronouns = sum(1 for word in tokens if word.lower() in ['i', 'me', 'my', 'mine', 'myself'])\n",
    "    avg_word_length = sum(len(word) for word in tokens) / word_count\n",
    "\n",
    "    return positive_score, negative_score, polarity_score, subjectivity_score, avg_sentence_length, \\\n",
    "        percentage_complex_words, fog_index, avg_words_per_sentence, complex_word_count, \\\n",
    "        word_count, syllables_per_word, personal_pronouns, avg_word_length\n"
   ]
  },
  {
   "cell_type": "markdown",
   "id": "84d74831",
   "metadata": {},
   "source": [
    "**we just downloaded a random dict. of words for refrence and using it as stop words**"
   ]
  },
  {
   "cell_type": "code",
   "execution_count": 7,
   "id": "a88c28a6",
   "metadata": {},
   "outputs": [],
   "source": [
    "def read_stopwords(file_path):\n",
    "    with open(file_path, 'r') as file:\n",
    "        stopwords = file.read().split()\n",
    "    return stopwords\n",
    "\n",
    "positive_stopwords = read_stopwords('C:/Users/ADMIN/Desktop/internship/words/positivew.txt')\n",
    "negative_stopwords = read_stopwords('C:/Users/ADMIN/Desktop/internship/words/negetivew.txt')"
   ]
  },
  {
   "cell_type": "markdown",
   "id": "2e8743c0",
   "metadata": {},
   "source": [
    "**creating a main funt. which will provide us analysis results of particular website**  "
   ]
  },
  {
   "cell_type": "code",
   "execution_count": 8,
   "id": "5a2f18e5",
   "metadata": {},
   "outputs": [],
   "source": [
    "def main():\n",
    "    url = [\"https://newbreak.church/holy-spirit-guidance/\"]\n",
    "    data = {'URL': [], 'Positive': [], 'Negative': [], 'Polarity': [], 'Subjectivity': [],\n",
    "            'Avg Sentence Length': [], 'Difficult Words': [], 'Fog Index': [],\n",
    "            'Avg Number of Words per Sentence': [], 'Complex Word Count': [], 'Word Count': [],\n",
    "            'Syllables per Word': [], 'Personal Pronouns': [], 'Avg Word Length': []}\n",
    "\n",
    "    for url_item in url:\n",
    "        text = extract_text_from_url(url_item)\n",
    "        if text is not None:\n",
    "  \n",
    "            filename = os.path.join(os.getcwd(), f\"{url_item.strip('/').replace('://', '_').replace('/', '_')}.txt\")\n",
    "            save_text_to_file(text, filename)\n",
    "            scores = process_file(filename)\n",
    "\n",
    "            if scores is not None:\n",
    "                positive_score, negative_score, polarity_score, subjectivity_score, avg_sentence_length, \\\n",
    "                difficult_words, fog_index, avg_words_per_sentence, complex_word_count, \\\n",
    "                word_count, syllables_per_word, personal_pronouns, avg_word_length = scores\n",
    "\n",
    "                data['URL'].append(url_item)\n",
    "                data['Positive'].append(positive_score)\n",
    "                data['Negative'].append(negative_score)\n",
    "                data['Polarity'].append(polarity_score)\n",
    "                data['Subjectivity'].append(subjectivity_score)\n",
    "                data['Avg Sentence Length'].append(avg_sentence_length)\n",
    "                data['Difficult Words'].append(difficult_words)\n",
    "                data['Fog Index'].append(fog_index)\n",
    "                data['Avg Number of Words per Sentence'].append(avg_words_per_sentence)\n",
    "                data['Complex Word Count'].append(complex_word_count)\n",
    "                data['Word Count'].append(word_count)\n",
    "                data['Syllables per Word'].append(syllables_per_word)\n",
    "                data['Personal Pronouns'].append(personal_pronouns)\n",
    "                data['Avg Word Length'].append(avg_word_length)\n",
    "\n",
    "    df = pd.DataFrame(data)\n",
    "    df.to_excel('sentiment_analysis_results_with_features.xlsx', index=False)\n",
    "\n",
    "if __name__ == \"__main__\":\n",
    "    main()\n",
    "\n"
   ]
  },
  {
   "cell_type": "code",
   "execution_count": null,
   "id": "b0e06c13",
   "metadata": {},
   "outputs": [],
   "source": []
  }
 ],
 "metadata": {
  "kernelspec": {
   "display_name": "Python 3 (ipykernel)",
   "language": "python",
   "name": "python3"
  },
  "language_info": {
   "codemirror_mode": {
    "name": "ipython",
    "version": 3
   },
   "file_extension": ".py",
   "mimetype": "text/x-python",
   "name": "python",
   "nbconvert_exporter": "python",
   "pygments_lexer": "ipython3",
   "version": "3.11.7"
  }
 },
 "nbformat": 4,
 "nbformat_minor": 5
}
